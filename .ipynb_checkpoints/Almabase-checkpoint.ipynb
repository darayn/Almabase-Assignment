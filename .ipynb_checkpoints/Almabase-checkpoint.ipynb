{
 "cells": [
  {
   "cell_type": "code",
   "execution_count": 8,
   "id": "5d0d0d94",
   "metadata": {},
   "outputs": [
    {
     "name": "stdout",
     "output_type": "stream",
     "text": [
      "Collecting fuzzywuzzy\n",
      "  Downloading fuzzywuzzy-0.18.0-py2.py3-none-any.whl (18 kB)\n",
      "Installing collected packages: fuzzywuzzy\n",
      "Successfully installed fuzzywuzzy-0.18.0\n"
     ]
    }
   ],
   "source": [
    "!pip install fuzzywuzzy"
   ]
  },
  {
   "cell_type": "code",
   "execution_count": 10,
   "id": "a8552b19",
   "metadata": {},
   "outputs": [],
   "source": [
    "import numpy as np\n",
    "import pandas as pd\n",
    "from fuzzywuzzy import fuzz"
   ]
  },
  {
   "cell_type": "code",
   "execution_count": 13,
   "id": "bb87fd45",
   "metadata": {},
   "outputs": [],
   "source": [
    "import itertools\n"
   ]
  },
  {
   "cell_type": "markdown",
   "id": "124a4be8",
   "metadata": {},
   "source": [
    "https://www.programiz.com/python-programming/object-oriented-programming --> Reference"
   ]
  },
  {
   "cell_type": "code",
   "execution_count": null,
   "id": "a1c12b0b",
   "metadata": {},
   "outputs": [],
   "source": [
    "class Profile:\n",
    "    # instance attributes\n",
    "    newid = itertools.count().next\n",
    "    def __init__(self, first_name, last_name, date_of_birth = None, class_year= None, email_field):\n",
    "        error = \"\"\n",
    "        if type(first_name)!=str || type(last_name)!=str:\n",
    "            error += \"First Name and Last Name should be string \\n\"\n",
    "        if(type(class_year)!=int || class_year <0):\n",
    "            error += \"Class Year shoud be integer and a positive number \\n\"\n",
    "            \n",
    "        if len(error):\n",
    "            print(error)\n",
    "        else:\n",
    "            self.id = resource_cl.newid()\n",
    "            self.first_name = first_name\n",
    "            self.last_name = last_name\n",
    "            self.data_of_birth = date_of_birth\n",
    "            self.class_year = class_year\n",
    "            self.email_field = email_field\n",
    "            print('Record Entered Successfully')\n",
    "    \n",
    "    \n",
    "        "
   ]
  },
  {
   "cell_type": "code",
   "execution_count": 12,
   "id": "062b25df",
   "metadata": {},
   "outputs": [],
   "source": [
    "def duplicate_finder_helper(profile1, profile2, fields):\n",
    "    mandatory_fields = ['first_name', 'last_name', 'email_field']\n",
    "    non_mandatory_fields = ['data_of_birth', 'class_year']\n",
    "    total_score=0\n",
    "    matching_attributes = []\n",
    "    nonmatching_attributes = []\n",
    "    ignored_attributes = [f for f in mandatory_fields if f not in fields]\n",
    "    name_string_attributes = [f for f in mandatory_fields if f in fields]\n",
    "    \n",
    "    for nms in name_string_attributes:\n",
    "        fuzz_string1 += getattr(profile1,nms)\n",
    "        fuzz_string2 += getattr(profile2,nms)\n",
    "    match_score = fuzz.ratio(fuzz_string1, fuzz_string2)\n",
    "    \n",
    "    if(match_score > 80):\n",
    "        matching_attributes = name_string_attributes\n",
    "        total_score += 1\n",
    "    else:\n",
    "        nonmatching_attributes = name_string_attributes\n",
    "        \n",
    "    for field in non_mandatory_fields:\n",
    "        if field in fields:\n",
    "            profile1_field = getattr(profile1, field)\n",
    "            profile2_field = getattr(profile2, field)\n",
    "            if(profile1_field!=None and profile2_field!=None):\n",
    "                if(profile1_field == profile2_field):\n",
    "                    total_score+=1\n",
    "                    matching_attributes.append(field)\n",
    "                else:\n",
    "                    total_score-=1\n",
    "                    nonmatching_attributes.append(field)\n",
    "            else:\n",
    "                ignored_attributes.append(field)\n",
    "                \n",
    "    \n",
    "    matching_att_str = 'None' if len(matching_attributes)==0 else ','.join(str(ma) for ma in matching_attributes)\n",
    "    nonmatching_att_str = 'None' if len(nonmatching_attributes)==0 else ','.join(str(nma) for nma in nonmatching_attributes)\n",
    "    ignored_att_str = 'None' if len(ignored_attributes)==0 else ','.join(str(ia) for ia in ignored_attributes)\n",
    "    res = \"profile 1, profile 2, total match score : {}, matching_attributes: {}, non_matching_attributes: {}, ignored_attributes: email, {}\".format(total_score, matching_att_str, nonmatching_att_str, ignored_att_str)\n",
    "    \n",
    "    return {res, total_score}\n",
    "        "
   ]
  },
  {
   "cell_type": "code",
   "execution_count": 5,
   "id": "8474e67f",
   "metadata": {},
   "outputs": [],
   "source": [
    "def duplicate_finder(profiles, fields):\n",
    "    n = len(profiles)\n",
    "    for i in range(n-1):\n",
    "        for j in range(i+1, n):\n",
    "            print(profiles[i], profiles[j])\n",
    "#             score = duplicate_finder_helper(profiles[i], profiles[j], fields)\n",
    "#             if(score > 1):\n",
    "#                 pass"
   ]
  },
  {
   "cell_type": "code",
   "execution_count": null,
   "id": "a1f2d76c",
   "metadata": {},
   "outputs": [],
   "source": []
  },
  {
   "cell_type": "code",
   "execution_count": null,
   "id": "fa80b701",
   "metadata": {},
   "outputs": [],
   "source": []
  }
 ],
 "metadata": {
  "kernelspec": {
   "display_name": "Python 3 (ipykernel)",
   "language": "python",
   "name": "python3"
  },
  "language_info": {
   "codemirror_mode": {
    "name": "ipython",
    "version": 3
   },
   "file_extension": ".py",
   "mimetype": "text/x-python",
   "name": "python",
   "nbconvert_exporter": "python",
   "pygments_lexer": "ipython3",
   "version": "3.9.12"
  }
 },
 "nbformat": 4,
 "nbformat_minor": 5
}
