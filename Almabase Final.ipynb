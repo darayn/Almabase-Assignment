{
 "cells": [
  {
   "cell_type": "markdown",
   "id": "f09ea45d",
   "metadata": {},
   "source": [
    "## Importing all the needed Libraries"
   ]
  },
  {
   "cell_type": "code",
   "execution_count": 1,
   "id": "8fa2999b",
   "metadata": {},
   "outputs": [
    {
     "name": "stderr",
     "output_type": "stream",
     "text": [
      "C:\\Users\\Dhanesh\\anaconda3\\lib\\site-packages\\fuzzywuzzy\\fuzz.py:11: UserWarning: Using slow pure-python SequenceMatcher. Install python-Levenshtein to remove this warning\n",
      "  warnings.warn('Using slow pure-python SequenceMatcher. Install python-Levenshtein to remove this warning')\n"
     ]
    }
   ],
   "source": [
    "import numpy as np\n",
    "import pandas as pd\n",
    "from fuzzywuzzy import fuzz\n",
    "import datetime\n",
    "import itertools"
   ]
  },
  {
   "cell_type": "markdown",
   "id": "3b6d0cf4",
   "metadata": {},
   "source": [
    "## Profile Class with some validations"
   ]
  },
  {
   "cell_type": "code",
   "execution_count": 49,
   "id": "2d039f38",
   "metadata": {},
   "outputs": [],
   "source": [
    "class Profile:\n",
    "    # instance attributes\n",
    "    class_counter= 1\n",
    "    def __init__(self,email_field, first_name, last_name, date_of_birth = None, class_year= None):\n",
    "        \n",
    "        error = \"\"\n",
    "        if first_name == '' or last_name== '' or email_field=='':\n",
    "            error+= \"First Name, Last Name and email cannot be empty \\n\"\n",
    "        elif(type(first_name)!=str or type(last_name)!=str):\n",
    "            error += \"First Name and Last Name should be string \\n\"\n",
    "        \n",
    "        if len(error):\n",
    "            print(error)\n",
    "        else:\n",
    "            self.id= Profile.class_counter\n",
    "            Profile.class_counter += 1\n",
    "            self.first_name = first_name\n",
    "            self.last_name = last_name\n",
    "            self.data_of_birth = date_of_birth\n",
    "            self.class_year = class_year\n",
    "            self.email_field = email_field\n",
    "            print('Profile {} Record Entered Successfully!'.format(self.id))\n",
    "    \n",
    "    \n",
    "        "
   ]
  },
  {
   "cell_type": "markdown",
   "id": "cd6aac76",
   "metadata": {},
   "source": [
    "## Method for Duplicate Finder "
   ]
  },
  {
   "cell_type": "code",
   "execution_count": 50,
   "id": "eb16e3e5",
   "metadata": {},
   "outputs": [],
   "source": [
    "def duplicate_finder_helper(profile1, profile2, fields) -> dict:\n",
    "    mandatory_fields = ['first_name', 'last_name', 'email_field']\n",
    "    non_mandatory_fields = ['data_of_birth', 'class_year']\n",
    "    total_score=0\n",
    "    matching_attributes = [] # -> empty  list where we will collect all the matching fields whose score increase\n",
    "    nonmatching_attributes = [] # -> empty list where we collect all the fields which are in the fields but does'nt contribute by matching\n",
    "    ignored_attributes = [f for f in mandatory_fields if f not in fields] # -> Fields which need to be ignored as they are not passed in fields arguments\n",
    "    name_string_attributes = [f for f in mandatory_fields if f in fields] #-> Mandatory fields which are present in Fields argument\n",
    "    fuzz_string1 = ''\n",
    "    fuzz_string2 = ''\n",
    "    for nms in name_string_attributes:\n",
    "        fuzz_string1 += getattr(profile1,nms)\n",
    "        fuzz_string2 += getattr(profile2,nms)\n",
    "    match_score = fuzz.ratio(fuzz_string1, fuzz_string2) # Calculating fuzz percentage using name_string_attributes\n",
    "    \n",
    "    if(match_score > 80):\n",
    "        matching_attributes = name_string_attributes\n",
    "        total_score += 1 \n",
    "    else:\n",
    "        nonmatching_attributes = name_string_attributes\n",
    "        \n",
    "    for field in non_mandatory_fields: # -> Calculating score for non Mandatory Fields.\n",
    "        if field in fields:\n",
    "            profile1_field = getattr(profile1, field)\n",
    "            profile2_field = getattr(profile2, field)\n",
    "            if(profile1_field!=None and profile2_field!=None):\n",
    "                if(profile1_field == profile2_field):\n",
    "                    total_score+=1\n",
    "                    matching_attributes.append(field)\n",
    "                else:\n",
    "                    total_score-=1\n",
    "                    nonmatching_attributes.append(field)\n",
    "            else:\n",
    "                ignored_attributes.append(field)\n",
    "                \n",
    "    for f in non_mandatory_fields:\n",
    "        if f not in fields:\n",
    "            ignored_attributes.append(f)\n",
    "                \n",
    "    ans = dict() #> Contains two KEYs 1. Resultant String as Required in outpu and the score gained\n",
    "    matching_att_str = 'None' if len(matching_attributes)==0 else ', '.join(str(ma) for ma in matching_attributes)\n",
    "    nonmatching_att_str = 'None' if len(nonmatching_attributes)==0 else ', '.join(str(nma) for nma in nonmatching_attributes)\n",
    "    ignored_att_str = 'None' if len(ignored_attributes)==0 else ', '.join(str(ia) for ia in ignored_attributes)\n",
    "    res = \"profile 1, profile 2, total match score : {}, matching_attributes: {}, non_matching_attributes: {}, ignored_attributes: {}\".format(total_score, matching_att_str, nonmatching_att_str, ignored_att_str)\n",
    "    ans['res_string'] = res\n",
    "    ans['score'] = total_score\n",
    "    return ans\n",
    "        "
   ]
  },
  {
   "cell_type": "code",
   "execution_count": 51,
   "id": "c50e84ec",
   "metadata": {},
   "outputs": [],
   "source": [
    "duplicateDF = pd.read_csv('database.csv', index_col=[0]);"
   ]
  },
  {
   "cell_type": "code",
   "execution_count": 52,
   "id": "13a7a2b9",
   "metadata": {},
   "outputs": [],
   "source": [
    "def duplicate_finder(profiles, fields, duplicateDF)->None: # -> this function computes score for all possible pairs without repetetion\n",
    "    n = len(profiles)\n",
    "    for i in range(n-1):\n",
    "        for j in range(i+1, n):\n",
    "            #             print(profiles[i], profiles[j])\n",
    "            resDict = duplicate_finder_helper(profiles[i]['obj'], profiles[j]['obj'], fields)\n",
    "            score = resDict['score']\n",
    "            if score > 1:\n",
    "                # We are supposed to add the profiles which are having score above 1\n",
    "                profiles[i]['dict']['id'] = profiles[i]['obj'].id\n",
    "                profiles[j]['dict']['id'] = profiles[j]['obj'].id\n",
    "#                 \n",
    "                dict1 = {'id': profiles[i]['dict']['id'], 'first_name': profiles[i]['dict']['first_name'], 'last_name': profiles[i]['dict']['last_name'], 'email_field':  profiles[i]['dict']['email_field'],'date_of_birth': profiles[i]['dict']['date_of_birth'],'class_year':profiles[i]['dict']['class_year']   }\n",
    "                dict2 = {'id': profiles[j]['dict']['id'], 'first_name': profiles[j]['dict']['first_name'], 'last_name': profiles[j]['dict']['last_name'], 'email_field':  profiles[j]['dict']['email_field'],'date_of_birth': profiles[j]['dict']['date_of_birth'],'class_year':profiles[j]['dict']['class_year']   }\n",
    "                df = pd.DataFrame([dict1, dict2], columns=['first_name', 'last_name', 'email_field', 'data_of_birth', 'class_year'])\n",
    "                duplicateDF = duplicateDF.append(df, ignore_index=True)\n",
    "#                 print(dict1, dict2)\n",
    "#                 print(df.head())\n",
    "                print('adding to DB')\n",
    "            print(resDict['res_string'])\n",
    "            "
   ]
  },
  {
   "cell_type": "code",
   "execution_count": 53,
   "id": "8f059c2f",
   "metadata": {},
   "outputs": [
    {
     "name": "stdout",
     "output_type": "stream",
     "text": [
      "Profile 1 Record Entered Successfully!\n",
      "Profile 2 Record Entered Successfully!\n",
      "Profile 3 Record Entered Successfully!\n"
     ]
    }
   ],
   "source": [
    "\n",
    "p1 = {'first_name': 'Dhanesh', 'last_name': 'Phulphagar', 'email_field': 'pdhanesh34@gmail.com', 'date_of_birth' :'1999/06/29', 'class_year': None}\n",
    "p2 = {'first_name': 'Dhanesh', 'last_name': 'Phulpagar', 'email_field': 'pdhanesh343@gmail.com', 'date_of_birth' :'1999/06/29', 'class_year': 2019}\n",
    "p3 = {'first_name': 'Danesh', 'last_name': 'Fulpagar', 'email_field': 'pdhanesh@gmail.com', 'date_of_birth' :'1999/06/29', 'class_year': 2019}\n",
    "\n",
    "p1_obj = Profile(**p1)\n",
    "p2_obj = Profile(**p2)\n",
    "p3_obj = Profile(**p3)\n",
    "\n",
    "p1_dict = dict( {'obj': p1_obj, 'dict': p1})\n",
    "p2_dict = dict( {'obj': p2_obj, 'dict': p2})\n",
    "p3_dict = dict( {'obj': p3_obj, 'dict': p3})\n"
   ]
  },
  {
   "cell_type": "code",
   "execution_count": 54,
   "id": "554dd5f5",
   "metadata": {},
   "outputs": [
    {
     "name": "stdout",
     "output_type": "stream",
     "text": [
      "adding to DB\n",
      "profile 1, profile 2, total match score : 2, matching_attributes: first_name, last_name, email_field, data_of_birth, non_matching_attributes: None, ignored_attributes: class_year\n"
     ]
    },
    {
     "name": "stderr",
     "output_type": "stream",
     "text": [
      "C:\\Users\\Dhanesh\\AppData\\Local\\Temp\\ipykernel_10600\\365054494.py:16: FutureWarning: The frame.append method is deprecated and will be removed from pandas in a future version. Use pandas.concat instead.\n",
      "  duplicateDF = duplicateDF.append(df, ignore_index=True)\n"
     ]
    }
   ],
   "source": [
    "\n",
    "\n",
    "duplicate_finder([p1_dict, p2_dict], ['first_name', 'last_name', 'email_field', 'data_of_birth', 'class_year'], duplicateDF)"
   ]
  },
  {
   "cell_type": "code",
   "execution_count": 55,
   "id": "5f3cfb36",
   "metadata": {},
   "outputs": [
    {
     "data": {
      "text/html": [
       "<div>\n",
       "<style scoped>\n",
       "    .dataframe tbody tr th:only-of-type {\n",
       "        vertical-align: middle;\n",
       "    }\n",
       "\n",
       "    .dataframe tbody tr th {\n",
       "        vertical-align: top;\n",
       "    }\n",
       "\n",
       "    .dataframe thead th {\n",
       "        text-align: right;\n",
       "    }\n",
       "</style>\n",
       "<table border=\"1\" class=\"dataframe\">\n",
       "  <thead>\n",
       "    <tr style=\"text-align: right;\">\n",
       "      <th></th>\n",
       "      <th>first_name</th>\n",
       "      <th>last_name</th>\n",
       "      <th>email_field</th>\n",
       "      <th>data_of_birth</th>\n",
       "      <th>class_year</th>\n",
       "    </tr>\n",
       "  </thead>\n",
       "  <tbody>\n",
       "    <tr>\n",
       "      <th>0</th>\n",
       "      <td>Dhanesh</td>\n",
       "      <td>Phulphagar</td>\n",
       "      <td>pdhanesh34@gmail.com</td>\n",
       "      <td>NaN</td>\n",
       "      <td>NaN</td>\n",
       "    </tr>\n",
       "    <tr>\n",
       "      <th>1</th>\n",
       "      <td>Dhanesh</td>\n",
       "      <td>Phulpagar</td>\n",
       "      <td>pdhanesh343@gmail.com</td>\n",
       "      <td>NaN</td>\n",
       "      <td>2019.0</td>\n",
       "    </tr>\n",
       "  </tbody>\n",
       "</table>\n",
       "</div>"
      ],
      "text/plain": [
       "  first_name   last_name            email_field  data_of_birth  class_year\n",
       "0    Dhanesh  Phulphagar   pdhanesh34@gmail.com            NaN         NaN\n",
       "1    Dhanesh   Phulpagar  pdhanesh343@gmail.com            NaN      2019.0"
      ]
     },
     "execution_count": 55,
     "metadata": {},
     "output_type": "execute_result"
    }
   ],
   "source": [
    "database = pd.read_csv('database.csv', index_col=[0])\n",
    "database"
   ]
  },
  {
   "cell_type": "code",
   "execution_count": null,
   "id": "9cb4cb2e",
   "metadata": {},
   "outputs": [],
   "source": []
  }
 ],
 "metadata": {
  "kernelspec": {
   "display_name": "Python 3 (ipykernel)",
   "language": "python",
   "name": "python3"
  },
  "language_info": {
   "codemirror_mode": {
    "name": "ipython",
    "version": 3
   },
   "file_extension": ".py",
   "mimetype": "text/x-python",
   "name": "python",
   "nbconvert_exporter": "python",
   "pygments_lexer": "ipython3",
   "version": "3.9.12"
  }
 },
 "nbformat": 4,
 "nbformat_minor": 5
}
