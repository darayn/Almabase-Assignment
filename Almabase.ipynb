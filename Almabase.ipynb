{
 "cells": [
  {
   "cell_type": "code",
   "execution_count": 8,
   "id": "64977816",
   "metadata": {},
   "outputs": [
    {
     "name": "stdout",
     "output_type": "stream",
     "text": [
      "Collecting fuzzywuzzy\n",
      "  Downloading fuzzywuzzy-0.18.0-py2.py3-none-any.whl (18 kB)\n",
      "Installing collected packages: fuzzywuzzy\n",
      "Successfully installed fuzzywuzzy-0.18.0\n"
     ]
    }
   ],
   "source": [
    "!pip install fuzzywuzzy"
   ]
  },
  {
   "cell_type": "code",
   "execution_count": 15,
   "id": "4a29307a",
   "metadata": {},
   "outputs": [],
   "source": [
    "import numpy as np\n",
    "import pandas as pd\n",
    "from fuzzywuzzy import fuzz\n",
    "import datetime\n",
    "  "
   ]
  },
  {
   "cell_type": "code",
   "execution_count": 13,
   "id": "fc6e46c3",
   "metadata": {},
   "outputs": [],
   "source": [
    "import itertools\n"
   ]
  },
  {
   "cell_type": "markdown",
   "id": "f7c93cfb",
   "metadata": {},
   "source": [
    "https://www.programiz.com/python-programming/object-oriented-programming --> Reference"
   ]
  },
  {
   "cell_type": "code",
   "execution_count": 45,
   "id": "ca7f0090",
   "metadata": {},
   "outputs": [],
   "source": [
    "class Profile:\n",
    "    # instance attributes\n",
    "#     newid = itertools.count().next\n",
    "    def __init__(self,email_field, first_name, last_name, date_of_birth = None, class_year= None):\n",
    "        error = \"\"\n",
    "        if type(first_name)!=str or type(last_name)!=str:\n",
    "            error += \"First Name and Last Name should be string \\n\"\n",
    "            \n",
    "        if len(error):\n",
    "            print(error)\n",
    "        else:\n",
    "#             self.id = resource_cl.newid()\n",
    "            self.first_name = first_name\n",
    "            self.last_name = last_name\n",
    "            self.data_of_birth = datetime.datetime.strptime(date_of_birth, '%Y/%m/%d')\n",
    "            self.class_year = class_year\n",
    "            self.email_field = email_field\n",
    "            print('Record Entered Successfully')\n",
    "    \n",
    "    \n",
    "        "
   ]
  },
  {
   "cell_type": "code",
   "execution_count": 107,
   "id": "28a53997",
   "metadata": {},
   "outputs": [],
   "source": [
    "def duplicate_finder_helper(profile1, profile2, fields) -> dict:\n",
    "    mandatory_fields = ['first_name', 'last_name', 'email_field']\n",
    "    non_mandatory_fields = ['data_of_birth', 'class_year']\n",
    "    total_score=0\n",
    "    matching_attributes = []\n",
    "    nonmatching_attributes = []\n",
    "    ignored_attributes = [f for f in mandatory_fields if f not in fields]\n",
    "    name_string_attributes = [f for f in mandatory_fields if f in fields]\n",
    "    fuzz_string1 = ''\n",
    "    fuzz_string2 = ''\n",
    "    for nms in name_string_attributes:\n",
    "        fuzz_string1 += getattr(profile1,nms)\n",
    "        fuzz_string2 += getattr(profile2,nms)\n",
    "    match_score = fuzz.ratio(fuzz_string1, fuzz_string2)\n",
    "    \n",
    "    if(match_score > 80):\n",
    "        matching_attributes = name_string_attributes\n",
    "        total_score += 1\n",
    "    else:\n",
    "        nonmatching_attributes = name_string_attributes\n",
    "        \n",
    "    for field in non_mandatory_fields:\n",
    "        if field in fields:\n",
    "            profile1_field = getattr(profile1, field)\n",
    "            profile2_field = getattr(profile2, field)\n",
    "            if(profile1_field!=None and profile2_field!=None):\n",
    "                if(profile1_field == profile2_field):\n",
    "                    total_score+=1\n",
    "                    matching_attributes.append(field)\n",
    "                else:\n",
    "                    total_score-=1\n",
    "                    nonmatching_attributes.append(field)\n",
    "            else:\n",
    "                ignored_attributes.append(field)\n",
    "                \n",
    "    for f in non_mandatory_fields:\n",
    "        if f not in fields:\n",
    "            ignored_attributes.append(f)\n",
    "                \n",
    "    ans = dict()\n",
    "    matching_att_str = 'None' if len(matching_attributes)==0 else ', '.join(str(ma) for ma in matching_attributes)\n",
    "    nonmatching_att_str = 'None' if len(nonmatching_attributes)==0 else ', '.join(str(nma) for nma in nonmatching_attributes)\n",
    "    ignored_att_str = 'None' if len(ignored_attributes)==0 else ', '.join(str(ia) for ia in ignored_attributes)\n",
    "    res = \"profile 1, profile 2, total match score : {}, matching_attributes: {}, non_matching_attributes: {}, ignored_attributes: {}\".format(total_score, matching_att_str, nonmatching_att_str, ignored_att_str)\n",
    "    ans['res_string'] = res\n",
    "    ans['score'] = total_score\n",
    "    return ans\n",
    "        "
   ]
  },
  {
   "cell_type": "code",
   "execution_count": 113,
   "id": "67e7aecb",
   "metadata": {},
   "outputs": [],
   "source": [
    "def duplicate_finder(profiles, fields)->None:\n",
    "    n = len(profiles)\n",
    "    for i in range(n-1):\n",
    "        for j in range(i+1, n):\n",
    "#             print(profiles[i], profiles[j])\n",
    "            resDict = duplicate_finder_helper(profiles[i], profiles[j], fields)\n",
    "            \n",
    "            print(resDict['score'])\n",
    "            print(resDict['res_string'])\n",
    "            "
   ]
  },
  {
   "cell_type": "code",
   "execution_count": 99,
   "id": "182176a6",
   "metadata": {},
   "outputs": [],
   "source": [
    "p1 = {'first_name': 'Dhanesh', 'last_name': 'Phulphagar', 'email_field': 'pdhanesh34@gmail.com', 'date_of_birth' :'1999/06/29', 'class_year': None}\n",
    "p2 = {'first_name': 'Dhanesh', 'last_name': 'Phulpagar', 'email_field': 'pdhanesh343@gmail.com', 'date_of_birth' :'1999/06/29', 'class_year': 2019}\n",
    "p3 = {'first_name': 'Danesh', 'last_name': 'Fulpagar', 'email_field': 'pdhanesh@gmail.com', 'date_of_birth' :'1999/06/29', 'class_year': 2019}\n"
   ]
  },
  {
   "cell_type": "code",
   "execution_count": 105,
   "id": "5be974ad",
   "metadata": {},
   "outputs": [
    {
     "name": "stdout",
     "output_type": "stream",
     "text": [
      "Record Entered Successfully\n",
      "Record Entered Successfully\n",
      "Record Entered Successfully\n"
     ]
    }
   ],
   "source": [
    "p1_obj = Profile(**p1)\n",
    "p2_obj = Profile(**p2)\n",
    "p3_obj = Profile(**p3)"
   ]
  },
  {
   "cell_type": "code",
   "execution_count": 114,
   "id": "e84b318c",
   "metadata": {},
   "outputs": [
    {
     "name": "stdout",
     "output_type": "stream",
     "text": [
      "2\n",
      "profile 1, profile 2, total match score : 2, matching_attributes: first_name, last_name, email_field, data_of_birth, non_matching_attributes: None, ignored_attributes: class_year\n"
     ]
    }
   ],
   "source": [
    "duplicate_finder([p1_obj, p2_obj], ['first_name', 'last_name', 'email_field', 'data_of_birth', 'class_year'])"
   ]
  },
  {
   "cell_type": "code",
   "execution_count": null,
   "id": "646c49d4",
   "metadata": {},
   "outputs": [],
   "source": []
  }
 ],
 "metadata": {
  "kernelspec": {
   "display_name": "Python 3 (ipykernel)",
   "language": "python",
   "name": "python3"
  },
  "language_info": {
   "codemirror_mode": {
    "name": "ipython",
    "version": 3
   },
   "file_extension": ".py",
   "mimetype": "text/x-python",
   "name": "python",
   "nbconvert_exporter": "python",
   "pygments_lexer": "ipython3",
   "version": "3.9.12"
  }
 },
 "nbformat": 4,
 "nbformat_minor": 5
}
